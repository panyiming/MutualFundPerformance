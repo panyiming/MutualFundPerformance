{
 "cells": [
  {
   "cell_type": "code",
   "execution_count": 4,
   "id": "6ff44935",
   "metadata": {},
   "outputs": [],
   "source": [
    "import pandas as pd\n",
    "import numpy as np\n",
    "from tqdm import tqdm\n",
    "import seaborn as sns\n",
    "import warnings\n",
    "warnings.filterwarnings(\"ignore\")\n",
    "np.set_printoptions(suppress=True)\n",
    "\n",
    "def get_ret_year(mf_rets, st, ed):\n",
    "    mf_rets_year = mf_rets[(mf_rets['date']<=ed) & (mf_rets['date']>=st)]\n",
    "    date_ls = sorted(list(set(mf_rets_year['date'])))\n",
    "    mf_rets_dicts = mf_rets_year.to_dict('records')\n",
    "    rets_year_dict = {}\n",
    "    for dict_i in mf_rets_dicts:\n",
    "        crsp_fundno = dict_i['crsp_fundno']\n",
    "        date = dict_i['date']\n",
    "        ret = dict_i['mret']\n",
    "        if crsp_fundno not in rets_year_dict:\n",
    "            rets_year_dict[crsp_fundno] = {}\n",
    "        rets_year_dict[crsp_fundno][date] = ret\n",
    "    \n",
    "    fundno_rets = {}\n",
    "    NAN = float('nan')\n",
    "    for fund_i in rets_year_dict:\n",
    "        dict_i = rets_year_dict[fund_i]\n",
    "        rest_ls = [NAN for i in range(len(date_ls))]\n",
    "        for dete_i in dict_i:\n",
    "            ind = date_ls.index(dete_i)\n",
    "            rest_ls[ind] = dict_i[dete_i]\n",
    "        fundno_rets[fund_i] = rest_ls\n",
    "    fundno_rets_year1 = pd.DataFrame.from_dict(fundno_rets)\n",
    "    return fundno_rets_year1\n",
    "\n",
    "\n",
    "def get_qu_ls(quts, fund_retavg):\n",
    "    ls = [[], [], [], [], [], [], [], [], [], []]\n",
    "    for id_i in fund_retavg:\n",
    "        avg = fund_retavg[id_i]\n",
    "        for i in range(10):\n",
    "            if (avg>=quts[i]) & (avg<quts[i+1]):\n",
    "                ls[i].append(int(id_i))\n",
    "    return ls\n",
    "        \n",
    "def get_group_ls(fundno_rets_year1):\n",
    "    fundno_rets_year1 = fundno_rets_year1.dropna(axis=1, how='any')\n",
    "    fund_retavg = fundno_rets_year1.mean().to_dict()\n",
    "    ret_avgls = [fund_retavg[i] for i in fund_retavg]\n",
    "    # from low to high:\n",
    "    quts = list(np.percentile(ret_avgls, [(i+1)*10 for i in range(9)]))\n",
    "    quts.insert(0, -8888)\n",
    "    quts.append(8888)\n",
    "    portfolios_fundids = get_qu_ls(quts, fund_retavg)\n",
    "    return portfolios_fundids\n",
    "\n",
    "def get_returns(ret_i):\n",
    "    ret_array = ret_i.to_numpy()\n",
    "    rest1 = ret_array[0, :]\n",
    "    inval_indx0 = np.isnan(rest1)\n",
    "    val_indx0 = 1- np.isnan(rest1)\n",
    "    num_vals = np.sum(val_indx0)  \n",
    "    ws = np.array([1/num_vals for i in range(rest1.shape[0])])\n",
    "    ws[inval_indx0] = 0\n",
    "    rets = []\n",
    "    for i in range(12):\n",
    "        rest1 = ret_array[i, :]\n",
    "        rest11 = ret_array[i, :]\n",
    "        rest11[np.isnan(rest11)] = 0\n",
    "        ret_f1 = np.matrix(rest11)*np.matrix(ws).T\n",
    "        ret_f1 = ret_f1[0, 0]\n",
    "        rets.append(ret_f1)\n",
    "        if i <= 10:\n",
    "            rest2 = ret_array[i+1, :]\n",
    "            indx_inval  = np.isnan(rest2)\n",
    "            indx_val = 1 - indx_inval\n",
    "            asets_vals = (np.array(rest11)+1)*np.array(ws)\n",
    "            asets_vals = asets_vals + np.sum(asets_vals[indx_val])/np.sum(indx_val)\n",
    "            asets_vals[indx_inval] = 0\n",
    "            ws = asets_vals/np.sum(asets_vals)\n",
    "            ws = ws.tolist()\n",
    "    return rets\n",
    "\n",
    "\n",
    "def get_pf_rets(pf_ids, fundno_rets_year2):\n",
    "    ret_ls = []\n",
    "    for pf_i in pf_ids:\n",
    "        ret_i = fundno_rets_year2[pf_i]\n",
    "        rets_pf_i = get_returns(ret_i)\n",
    "        ret_ls.append(rets_pf_i)\n",
    "    rets = np.array(ret_ls).T\n",
    "    return rets\n",
    "\n",
    "\n",
    "def get_all_rets(mf_rets):\n",
    "    months  = []\n",
    "    cols = ['p{}'.format(i+1) for i in range(10)]\n",
    "    NANs = [float('nan') for i in range(12)]\n",
    "    for i in tqdm(range(55)):\n",
    "        st = int(str(1964+i)+'01')\n",
    "        ed = int(str(1964+i)+'12')\n",
    "        fundno_rets_year1 = get_ret_year(mf_rets, st, ed)\n",
    "        pf_group_ls = get_group_ls(fundno_rets_year1)\n",
    "        st1 = int(str(1964+i+1)+'01')\n",
    "        ed1 = int(str(1964+i+1)+'12')\n",
    "        fundno_rets_year2 = get_ret_year(mf_rets, st1, ed1)\n",
    "        new_cols = set(fundno_rets_year1.columns) - set(fundno_rets_year2.columns)\n",
    "        for col_i in new_cols:\n",
    "            fundno_rets_year2[col_i] = NANs\n",
    "        rets_i = get_pf_rets(pf_group_ls, fundno_rets_year2)\n",
    "        if i==0:\n",
    "            rets = rets_i\n",
    "        else:\n",
    "            rets = np.vstack((rets, rets_i))\n",
    "        mon_i = [int(str(1964+i+1)+str(j+1).zfill(2)) for j in range(12)]\n",
    "        months += mon_i\n",
    "    df_pf_rets = pd.DataFrame(rets, columns=cols)\n",
    "    df_pf_rets['date'] = months\n",
    "    return df_pf_rets"
   ]
  },
  {
   "cell_type": "markdown",
   "id": "0ed711fd",
   "metadata": {},
   "source": [
    "# 1 process data"
   ]
  },
  {
   "cell_type": "code",
   "execution_count": 88,
   "id": "581c8c21",
   "metadata": {},
   "outputs": [],
   "source": [
    "mf_rets = pd.read_csv('./original_data/MFrets_1962to2012.csv')\n",
    "mf_rets = mf_rets.dropna(axis=0, how='any')\n",
    "years = list(mf_rets['year'])\n",
    "months = list(mf_rets['month'].astype(str))\n",
    "dates = []\n",
    "for i in range(len(years)):\n",
    "    date_i = str(years[i]) + str(months[i]).zfill(2)\n",
    "    dates.append(date_i)\n",
    "mf_rets['date'] = dates\n",
    "mf_rets['mret'] = mf_rets['mret']*100\n",
    "mf_rets = mf_rets.drop(['year', 'month'], axis=1)\n",
    "mf_rets.to_csv('./MF_rets.csv')"
   ]
  },
  {
   "cell_type": "code",
   "execution_count": 61,
   "id": "a2a47a64",
   "metadata": {},
   "outputs": [],
   "source": [
    "mom = pd.read_csv('./original_data/Mom.csv')\n",
    "df3 = pd.read_csv('./original_data/FF3.csv')\n",
    "df3 = df3[df3['Unnamed: 0']>=192701]\n",
    "df3 = df3.reset_index()\n",
    "df3['Mom'] = mom['Mom']\n",
    "dates1 = sorted(list(set(dates)))\n",
    "df3['date'] = df3['Unnamed: 0']\n",
    "df3 = df3.drop(['Unnamed: 0', 'index'], axis=1)\n",
    "df3.to_csv('FF4.csv')"
   ]
  },
  {
   "cell_type": "markdown",
   "id": "feee84a9",
   "metadata": {},
   "source": [
    "# 2 regression:\n",
    "\n",
    "$$\n",
    "\\begin{gathered}\n",
    "r_{i t}=\\alpha_{i T}+\\beta_{i T} \\mathrm{VWRF}_{t}+e_{i t} \\quad t=1,2, \\cdots, T \\\\\n",
    "r_{i t}=\\alpha_{i T}+b_{i T} \\mathrm{RMRF}_{t}+s_{i T} \\mathrm{SMB}_{t}+h_{i T} \\mathrm{HML}_{t}+e_{i t} \\quad t=1,2, \\cdots, T \\\\\n",
    "r_{i t}=\\alpha_{i T}+b_{i T} \\mathrm{RMRF}_{t}+s_{i T} \\mathrm{SMB}_{t}+h_{i T} \\mathrm{HML}_{t}+p_{i T} \\mathrm{PR} 1 \\mathrm{YR}_{t}+e_{i t} \\\\\n",
    "t=1,2, \\cdots, T\n",
    "\\end{gathered}\n",
    "$$\n",
    "\n",
    "## 2.1 variable meaning:\n",
    "\n",
    "- $r_{i t}$ is the return on a portfolio in excess of the one-month T-bill return;\n",
    "- VWRF is the excess return on the CRSP value-weighted portfolio of all NYSE;\n",
    "- RMRF is the excess return on a value-weighted aggregate market proxy;\n",
    "- SMB, HML, PR1YR are returns on valueweighted, zero-investment, factor-mimicking portfolios for size, book-to-market equity, and one-year momentum in stock returns.\n",
    "\n",
    "\n",
    "## 2.2 portfolio  construction:\n",
    "\n",
    "On January 1 of each year, I form ten equal-weighted portfolios of mutual funds, using reported returns.  I hold the portfolios for one year, then reform them. This yields a time series of monthly returns on each decile portfolio from 1963 to 1993. Funds that disappear during the course of the year are included in the equal-weighted average until they disappear, then the portfolio weights are readjusted appropriately.\n",
    "\n",
    "Mutual funds are sorted on January 1 each year from 1963 to 1993 into decile portfolios based on their previous calendar year's return. The portfolios are equally weighted monthly so the weights are readjusted whenever a fund disappears. Funds with the highest past one-year return comprise decile 1 and funds with the lowest comprise decile 10. Deciles 1 and 10 are further subdivided into thirds on the same measure. VWRF is the excess return on the CRSP value-weight market proxy.\n",
    "\n",
    "RMRF, SMB, and HML are Fama and French's (1993) market proxy and factor-mimicking portfolios for size and book-to-market equity. PR1YR is a factor-mimicking portfolio for one-year return momentum. Alpha is the intercept of the Model. The t-statistics are in parentheses."
   ]
  },
  {
   "cell_type": "code",
   "execution_count": 2,
   "id": "369083d0",
   "metadata": {},
   "outputs": [],
   "source": [
    "ff4_df = pd.read_csv('./FF4.csv')\n",
    "ff4_df = ff4_df.drop('Unnamed: 0', axis=1)\n",
    "mf_rets = pd.read_csv('./MF_rets.csv')\n",
    "mf_rets = mf_rets.drop('Unnamed: 0', axis=1)"
   ]
  },
  {
   "cell_type": "code",
   "execution_count": 5,
   "id": "bc10de23",
   "metadata": {},
   "outputs": [
    {
     "name": "stderr",
     "output_type": "stream",
     "text": [
      "100%|███████████████████████████████████████████| 55/55 [00:29<00:00,  1.85it/s]\n"
     ]
    }
   ],
   "source": [
    "df_pf_rets = get_all_rets(mf_rets)"
   ]
  },
  {
   "cell_type": "code",
   "execution_count": 6,
   "id": "bd4605ac",
   "metadata": {},
   "outputs": [],
   "source": [
    "df_pf_rets = df_pf_rets.dropna(axis=0, how='any')"
   ]
  },
  {
   "cell_type": "code",
   "execution_count": 7,
   "id": "94d6fe9c",
   "metadata": {},
   "outputs": [],
   "source": [
    "df_pf_rets = df_pf_rets[df_pf_rets['date']<201901]"
   ]
  },
  {
   "cell_type": "code",
   "execution_count": 8,
   "id": "2ffb32dc",
   "metadata": {},
   "outputs": [],
   "source": [
    "df_pf_rets['ls'] = df_pf_rets['p10'] - df_pf_rets['p1']\n",
    "ff4_df1 = ff4_df[(ff4_df['date']>=196501) & (ff4_df['date']<=201812)]\n",
    "ff4_df1 = ff4_df1.drop('date',axis=1)\n",
    "ff4_df1 = ff4_df1.reset_index()"
   ]
  },
  {
   "cell_type": "code",
   "execution_count": 9,
   "id": "38c9e43a",
   "metadata": {},
   "outputs": [],
   "source": [
    "df_pf_rets[ff4_df1.columns[1:]] = ff4_df1[ff4_df1.columns[1:]]\n",
    "df_pf_rets1 = df_pf_rets.copy()\n",
    "cls = ['p1', 'p2', 'p3', 'p4', 'p5', 'p6', 'p7', 'p8', 'p9', 'p10', 'ls']\n",
    "for cls_i in cls:\n",
    "    df_pf_rets1[cls_i] = df_pf_rets1[cls_i] - df_pf_rets1['RF']\n",
    "df_pf_rets1['MK'] = df_pf_rets1['Mkt-RF']\n",
    "df_pf_rets2 = df_pf_rets1[df_pf_rets1['date']<=199312]\n",
    "df_pf_rets3 = df_pf_rets1[(df_pf_rets1['date']>199312) & (df_pf_rets1['date']<201812)]"
   ]
  },
  {
   "cell_type": "code",
   "execution_count": 10,
   "id": "e29e5148",
   "metadata": {},
   "outputs": [],
   "source": [
    "df_pf_rets1.to_csv('pf_rets1.csv')\n",
    "df_pf_rets2.to_csv('pf_rets2.csv')\n",
    "df_pf_rets3.to_csv('pf_rets3.csv')"
   ]
  },
  {
   "cell_type": "code",
   "execution_count": null,
   "id": "7612c4f2",
   "metadata": {},
   "outputs": [],
   "source": []
  }
 ],
 "metadata": {
  "kernelspec": {
   "display_name": "Python 3 (ipykernel)",
   "language": "python",
   "name": "python3"
  },
  "language_info": {
   "codemirror_mode": {
    "name": "ipython",
    "version": 3
   },
   "file_extension": ".py",
   "mimetype": "text/x-python",
   "name": "python",
   "nbconvert_exporter": "python",
   "pygments_lexer": "ipython3",
   "version": "3.9.1"
  }
 },
 "nbformat": 4,
 "nbformat_minor": 5
}
