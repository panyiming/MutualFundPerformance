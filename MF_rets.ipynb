{
 "cells": [
  {
   "cell_type": "code",
   "execution_count": 11,
   "id": "7cbda50f",
   "metadata": {},
   "outputs": [],
   "source": [
    "import pandas as pd\n",
    "import numpy as np\n",
    "import seaborn as sns\n",
    "import warnings\n",
    "warnings.filterwarnings(\"ignore\")"
   ]
  },
  {
   "cell_type": "markdown",
   "id": "1a51803a",
   "metadata": {},
   "source": [
    "# 1 process data"
   ]
  },
  {
   "cell_type": "code",
   "execution_count": 59,
   "id": "b06b609e",
   "metadata": {},
   "outputs": [],
   "source": [
    "mf_rets = pd.read_csv('./original_data/MFrets_1962to2012.csv')\n",
    "years = list(mf_rets['year'])\n",
    "months = list(mf_rets['month'].astype(str))\n",
    "dates = []\n",
    "for i in range(len(years)):\n",
    "    date_i = str(years[i]) + str(months[i]).zfill(2)\n",
    "    dates.append(date_i)\n",
    "mf_rets['date'] = dates\n",
    "mf_rets['mret'] = mf_rets['mret']*100\n",
    "mf_rets.to_csv('./MF_rets.csv')"
   ]
  },
  {
   "cell_type": "code",
   "execution_count": 61,
   "id": "922d12f2",
   "metadata": {},
   "outputs": [],
   "source": [
    "mom = pd.read_csv('./original_data/Mom.csv')\n",
    "df3 = pd.read_csv('./original_data/FF3.csv')\n",
    "df3 = df3[df3['Unnamed: 0']>=192701]\n",
    "df3 = df3.reset_index()\n",
    "df3['Mom'] = mom['Mom']\n",
    "dates1 = sorted(list(set(dates)))\n",
    "df3['date'] = df3['Unnamed: 0']\n",
    "df3 = df3.drop(['Unnamed: 0', 'index'], axis=1)\n",
    "df3.to_csv('FF4.csv')"
   ]
  },
  {
   "cell_type": "markdown",
   "id": "116dee02",
   "metadata": {},
   "source": [
    "# 2 regression:\n",
    "\n",
    "$$\n",
    "\\begin{gathered}\n",
    "r_{i t}=\\alpha_{i T}+\\beta_{i T} \\mathrm{VWRF}_{t}+e_{i t} \\quad t=1,2, \\cdots, T \\\\\n",
    "r_{i t}=\\alpha_{i T}+b_{i T} \\mathrm{RMRF}_{t}+s_{i T} \\mathrm{SMB}_{t}+h_{i T} \\mathrm{HML}_{t}+e_{i t} \\quad t=1,2, \\cdots, T \\\\\n",
    "r_{i t}=\\alpha_{i T}+b_{i T} \\mathrm{RMRF}_{t}+s_{i T} \\mathrm{SMB}_{t}+h_{i T} \\mathrm{HML}_{t}+p_{i T} \\mathrm{PR} 1 \\mathrm{YR}_{t}+e_{i t} \\\\\n",
    "t=1,2, \\cdots, T\n",
    "\\end{gathered}\n",
    "$$\n",
    "\n",
    "## 2.1 variable meaning:\n",
    "\n",
    "- $r_{i t}$ is the return on a portfolio in excess of the one-month T-bill return;\n",
    "- VWRF is the excess return on the CRSP value-weighted portfolio of all NYSE;\n",
    "- RMRF is the excess return on a value-weighted aggregate market proxy;\n",
    "- SMB, HML, PR1YR are returns on valueweighted, zero-investment, factor-mimicking portfolios for size, book-to-market equity, and one-year momentum in stock returns.\n",
    "\n",
    "\n",
    "## 2.2 portfolio  construction:\n",
    "\n",
    "On January 1 of each year, I form ten equal-weighted portfolios of mutual funds, using reported returns.  I hold the portfolios for one year, then reform them. This yields a time series of monthly returns on each decile portfolio from 1963 to 1993. Funds that disappear during the course of the year are included in the equal-weighted average until they disappear, then the portfolio weights are readjusted appropriately.\n",
    "\n",
    "Mutual funds are sorted on January 1 each year from 1963 to 1993 into decile portfolios based on their previous calendar year's return. The portfolios are equally weighted monthly so the weights are readjusted whenever a fund disappears. Funds with the highest past one-year return comprise decile 1 and funds with the lowest comprise decile 10. Deciles 1 and 10 are further subdivided into thirds on the same measure. VWRF is the excess return on the CRSP value-weight market proxy.\n",
    "\n",
    "RMRF, SMB, and HML are Fama and French's (1993) market proxy and factor-mimicking portfolios for size and book-to-market equity. PR1YR is a factor-mimicking portfolio for one-year return momentum. Alpha is the intercept of the Model. The t-statistics are in parentheses."
   ]
  },
  {
   "cell_type": "code",
   "execution_count": null,
   "id": "8aaaa22f",
   "metadata": {},
   "outputs": [],
   "source": []
  }
 ],
 "metadata": {
  "kernelspec": {
   "display_name": "Python 3 (ipykernel)",
   "language": "python",
   "name": "python3"
  },
  "language_info": {
   "codemirror_mode": {
    "name": "ipython",
    "version": 3
   },
   "file_extension": ".py",
   "mimetype": "text/x-python",
   "name": "python",
   "nbconvert_exporter": "python",
   "pygments_lexer": "ipython3",
   "version": "3.9.1"
  }
 },
 "nbformat": 4,
 "nbformat_minor": 5
}
